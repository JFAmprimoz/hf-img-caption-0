{
 "cells": [
  {
   "cell_type": "code",
   "execution_count": null,
   "id": "fdde947c-67b6-44af-85cb-66eb570ba951",
   "metadata": {},
   "outputs": [],
   "source": [
    "#timings based on cpu-only AMD7600X 32GB Ram (only 16GB accessible in WSL)\n",
    "\n",
    "from google_auth_oauthlib.flow import InstalledAppFlow\n",
    "from google.auth.transport.requests import Request\n",
    "import os\n",
    "import pickle\n",
    "import requests\n",
    "from PIL import Image\n",
    "from IPython.display import display\n",
    "import torch\n",
    "from time import perf_counter\n",
    "import statistics"
   ]
  },
  {
   "cell_type": "code",
   "execution_count": null,
   "id": "820a4f23-cfee-4090-b649-0dd8d9fa69eb",
   "metadata": {},
   "outputs": [],
   "source": [
    "# import and set Processor and Model\n",
    "\n",
    "from transformers import Blip2Processor, Blip2ForConditionalGeneration\n",
    "\n",
    "processor = Blip2Processor.from_pretrained(\"Salesforce/blip2-opt-2.7b\")\n",
    "model = Blip2ForConditionalGeneration.from_pretrained(\"Salesforce/blip2-opt-2.7b\"\n",
    "                                                     , device_map='auto', offload_folder=\"offload\"\n",
    "                                                     )\n",
    "#set to use cuda gpu if available\n",
    "device = \"cuda\" if torch.cuda.is_available() else \"cpu\"                                                   \n",
    "# model.to(device)                                                     \n",
    "model = torch.compile(model)\n",
    "\n",
    "\n"
   ]
  },
  {
   "cell_type": "code",
   "execution_count": null,
   "id": "35633a26",
   "metadata": {},
   "outputs": [],
   "source": [
    "# defined captioning function\n",
    "\n",
    "def caption(img):\n",
    "      \n",
    "    t_start = perf_counter()\n",
    "    \n",
    "    raw_image = img.convert('RGB')\n",
    "    inputs = processor(raw_image, return_tensors=\"pt\").to(device)\n",
    "    out = model.generate(**inputs, max_new_tokens=20)\n",
    "\n",
    "    caption_txt = processor.decode(out[0], skip_special_tokens=True)  \n",
    "    \n",
    "    t_end = perf_counter()\n",
    "    t_passed = t_end - t_start\n",
    "    \n",
    "    return [caption_txt, t_passed]"
   ]
  },
  {
   "cell_type": "code",
   "execution_count": null,
   "id": "2dbef584",
   "metadata": {},
   "outputs": [],
   "source": [
    "#set location of client secret file you got from Google Cloud Console and required API scopes\n",
    "\n",
    "CLIENT_SECRET = 'client_secret.json'\n",
    "SCOPES = ['https://www.googleapis.com/auth/photoslibrary']"
   ]
  },
  {
   "cell_type": "code",
   "execution_count": null,
   "id": "dff915b2",
   "metadata": {},
   "outputs": [],
   "source": [
    "#authenticate and authorize, save token in a .pickle\n",
    "\n",
    "creds = None\n",
    "if os.path.exists('token.pickle'):\n",
    "    with open('token.pickle', 'rb') as token:\n",
    "        creds = pickle.load(token)\n",
    "\n",
    "if not creds or not creds.valid:\n",
    "    if creds and creds.expired and creds.refresh_token:\n",
    "        creds.refresh(Request())\n",
    "    else:\n",
    "        flow = InstalledAppFlow.from_client_secrets_file(\n",
    "            CLIENT_SECRET, SCOPES)\n",
    "        creds = flow.run_local_server(port=0)\n",
    "    with open('token.pickle', 'wb') as token:\n",
    "        pickle.dump(creds, token)\n"
   ]
  },
  {
   "cell_type": "code",
   "execution_count": null,
   "id": "51e76c49",
   "metadata": {},
   "outputs": [],
   "source": [
    "#get all media item info\n",
    "\n",
    "response = requests.get('https://photoslibrary.googleapis.com/v1/mediaItems', headers={'Authorization': f'Bearer {creds.token}'})\n",
    "mediaItems = response.json()['mediaItems']\n",
    "\n",
    "#loop through all the media items to get each base url and feed it to the captioning model function\n",
    "\n",
    "baseUrls = []\n",
    "times = []\n",
    "\n",
    "\n",
    "for i in mediaItems:\n",
    "    # baseUrls.append(i['baseUrl'])\n",
    "    img = Image.open(requests.get(i['baseUrl'], stream=True).raw)\n",
    "    display(img)\n",
    "    caption_list = caption(img)\n",
    "    print(caption_list)\n",
    "    times.append(caption_list[1])\n",
    "    print(statistics.fmean(times))\n",
    "    avg = statistics.fmean(times)"
   ]
  },
  {
   "cell_type": "code",
   "execution_count": null,
   "id": "5aed8f0f-712d-4b29-a7bd-f6eae634322f",
   "metadata": {},
   "outputs": [],
   "source": [
    "print(avg)"
   ]
  }
 ],
 "metadata": {
  "kernelspec": {
   "display_name": "Python 3 (ipykernel)",
   "language": "python",
   "name": "python3"
  },
  "language_info": {
   "codemirror_mode": {
    "name": "ipython",
    "version": 3
   },
   "file_extension": ".py",
   "mimetype": "text/x-python",
   "name": "python",
   "nbconvert_exporter": "python",
   "pygments_lexer": "ipython3",
   "version": "3.10.13"
  }
 },
 "nbformat": 4,
 "nbformat_minor": 5
}
