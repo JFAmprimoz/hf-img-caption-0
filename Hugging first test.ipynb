{
 "cells": [
  {
   "cell_type": "code",
   "execution_count": null,
   "id": "0f7e168e",
   "metadata": {},
   "outputs": [],
   "source": [
    "import flask\n",
    "import requests\n",
    "from PIL import Image\n",
    "from transformers import BlipProcessor, BlipForConditionalGeneration\n",
    "\n",
    "processor = BlipProcessor.from_pretrained(\"Salesforce/blip-image-captioning-base\")\n",
    "model = BlipForConditionalGeneration.from_pretrained(\"Salesforce/blip-image-captioning-base\")\n",
    "\n",
    "\n",
    "\n",
    "\n",
    "\n"
   ]
  },
  {
   "cell_type": "code",
   "execution_count": null,
   "id": "35633a26",
   "metadata": {},
   "outputs": [],
   "source": [
    "\n",
    "\n",
    "def caption(img):\n",
    "    raw_image = img.convert('RGB')\n",
    "    inputs = processor(raw_image, return_tensors=\"pt\")\n",
    "\n",
    "    out = model.generate(**inputs)\n",
    "    return processor.decode(out[0], skip_special_tokens=True)"
   ]
  },
  {
   "cell_type": "code",
   "execution_count": null,
   "id": "44202375",
   "metadata": {},
   "outputs": [],
   "source": [
    "from google_auth_oauthlib.flow import InstalledAppFlow\n",
    "from google.auth.transport.requests import Request\n",
    "from googleapiclient.discovery import build\n",
    "from IPython.display import display\n",
    "import os\n",
    "import pickle\n",
    "import requests # comment out if importing for "
   ]
  },
  {
   "cell_type": "code",
   "execution_count": null,
   "id": "2dbef584",
   "metadata": {},
   "outputs": [],
   "source": [
    "CLIENT_SECRET = 'client_secret.json'\n",
    "SCOPES = ['https://www.googleapis.com/auth/photoslibrary']"
   ]
  },
  {
   "cell_type": "code",
   "execution_count": null,
   "id": "dff915b2",
   "metadata": {},
   "outputs": [],
   "source": [
    "creds = None\n",
    "if os.path.exists('token.pickle'):\n",
    "    with open('token.pickle', 'rb') as token:\n",
    "        creds = pickle.load(token)\n",
    "\n",
    "if not creds or not creds.valid:\n",
    "    if creds and creds.expired and creds.refresh_token:\n",
    "        creds.refresh(Request())\n",
    "    else:\n",
    "        flow = InstalledAppFlow.from_client_secrets_file(\n",
    "            CLIENT_SECRET, SCOPES)\n",
    "        creds = flow.run_local_server(port=0)\n",
    "    with open('token.pickle', 'wb') as token:\n",
    "        pickle.dump(creds, token)\n"
   ]
  },
  {
   "cell_type": "code",
   "execution_count": null,
   "id": "51e76c49",
   "metadata": {},
   "outputs": [],
   "source": [
    "response = requests.get('https://photoslibrary.googleapis.com/v1/mediaItems', headers={'Authorization': f'Bearer {creds.token}'})\n",
    "mediaItems = response.json()['mediaItems']\n",
    "baseUrls = []\n",
    "\n",
    "for i in mediaItems:\n",
    "    # baseUrls.append(i['baseUrl'])\n",
    "    img = Image.open(requests.get(i['baseUrl'], stream=True).raw)\n",
    "    display(img)\n",
    "    print(caption(img))\n",
    "\n",
    "\n"
   ]
  },
  {
   "cell_type": "code",
   "execution_count": null,
   "id": "135f8938",
   "metadata": {},
   "outputs": [],
   "source": [
    "url = 'https://lh3.googleusercontent.com/lr/AAJ1LKfZNK8rVmtvFj3FqymFV4pa0nzxTZIkI4i76L0gUxqt8eVvtpC9T75B1fwt-av3Xm1nO91TX7ZkZy5i_TP4h6RA0IfDr0GckeCvl43tHpxLcKMpAF1TzOPFSGnnfV9eYaKAznwEMQ-SDSyFOSfEe062l4zZo29CKMJfCUCNJ5BhEX-UhrLDU1tosYZYHj_4CIy_XI35bQTxcXtWQkmaskqDPJUq9W3kbnjcFX_0rdPS8bTKlMzlLubzLL9o_xxHZq-Nw28j_DIHFxapzpwnenwdawyoVd0YxgYqp6MPZAb6ESN5f1yIX-PxtYOalqeU4kMs-RehsfM-XzdzhNF2jcex9jtxYpd-KiHC8v1z30_9TSgnkbe0C8fWbwmEeb20UtDSkyFVFXRXrm4A0wVQ0ABHLJTot5bx6_-WZQ4XSPR0WrO4X7LSNjLmfeLn1O1A7CtWTS9pQBx9WKN-s2IIfUF8ax6GIpiF2H4oYWlaBEhKv4Q3jFNdvVbmvJJkDkwBf3WhMZmdbSd-6q7CMl3HFKmEOn5Rx_KYFxBI1SMAVkjOG05m3ax4zi2-Xu-HsZtFPGdC4xM_kUEwdh6CbjxC_GKlCDBKTNSNvLiI8fMfQ0k3c3vsBL0F8DUhJOei7-vHBAQQouhLKmohdCNkNnPpJo1uiaQSobRWU7Rs20fGJ3L3VT4VDrDQ5yhrcinIkRA86v2SBmyOdiW8H5lUhHEnSDavPmjZT7Ws3PyVv0sRPvRgLHVwykr82hAeXwHK77xhHTKIFGzUALXaTDDPLSMM2KP3etkmH5EEVZzFHXe0A6rDdc_rZAn57gVV5ytlamTrN8sHK40oyUhajF-Q5TMnSm3RHuCMzICucDYGqe-Fl06wEZZVn7UurNgHEe6WKPsKhKAMby0ubwJ-fqOARThuzF-rqOGsVWzEF-fGM4fXYaWQKawSOCEp6aka5qm-neVxO_FmNF1Cb-J-jp9-MhWfBnNyV-gy-RYhEMWSxHjMk-0gK_x3zN1HHSfAm-CjLPWlxlN8oQbwIPj6Fv5FK4IrJ5569w'\n",
    "\n",
    "\n",
    "img = Image.open(requests.get(url, stream=True).raw)\n",
    "img"
   ]
  },
  {
   "cell_type": "code",
   "execution_count": null,
   "id": "2f6551f1",
   "metadata": {},
   "outputs": [],
   "source": [
    "raw_image = img.convert('RGB')\n",
    "\n",
    "inputs = processor(raw_image, return_tensors=\"pt\")\n",
    "\n",
    "out = model.generate(**inputs)\n",
    "\n",
    "processor.batch_decode(out)\n",
    "# for i in out:\n",
    "#     print(processor.decode(out[i]))"
   ]
  },
  {
   "cell_type": "code",
   "execution_count": null,
   "id": "cf6aa467",
   "metadata": {},
   "outputs": [],
   "source": []
  },
  {
   "cell_type": "code",
   "execution_count": null,
   "id": "9ccaae55",
   "metadata": {},
   "outputs": [],
   "source": [
    "baseUrls = []\n",
    "\n",
    "for i in mediaItems:\n",
    "    baseUrls.append(mediaItems[i]['baseUrl'])\n",
    "    \n",
    "baseUrls"
   ]
  }
 ],
 "metadata": {
  "kernelspec": {
   "display_name": "Python 3 (ipykernel)",
   "language": "python",
   "name": "python3"
  },
  "language_info": {
   "codemirror_mode": {
    "name": "ipython",
    "version": 3
   },
   "file_extension": ".py",
   "mimetype": "text/x-python",
   "name": "python",
   "nbconvert_exporter": "python",
   "pygments_lexer": "ipython3",
   "version": "3.11.5"
  }
 },
 "nbformat": 4,
 "nbformat_minor": 5
}
